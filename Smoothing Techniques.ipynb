{
 "cells": [
  {
   "cell_type": "code",
   "execution_count": 1,
   "id": "6e1e2fd1",
   "metadata": {},
   "outputs": [],
   "source": [
    "# Load EDA Pckgs\n",
    "import pandas as pd\n",
    "import numpy as np "
   ]
  },
  {
   "cell_type": "code",
   "execution_count": 2,
   "id": "397505c5",
   "metadata": {},
   "outputs": [],
   "source": [
    "# Load Data Viz Pkgs\n",
    "import matplotlib.pyplot as plt\n",
    "import seaborn as sns"
   ]
  },
  {
   "cell_type": "code",
   "execution_count": 3,
   "id": "a1e62dc7",
   "metadata": {},
   "outputs": [],
   "source": [
    "import seaborn as sns \n",
    "import os\n",
    "from sklearn.ensemble import RandomForestClassifier\n",
    "from sklearn.svm import SVC\n",
    "from sklearn.model_selection import train_test_split\n",
    "from sklearn.metrics import accuracy_score\n",
    "from sklearn.metrics import confusion_matrix\n",
    "import sys\n",
    "from sklearn.svm import SVC\n",
    "from sklearn.model_selection import GridSearchCV\n",
    "from sklearn.metrics import accuracy_score, f1_score\n",
    "\n",
    "import warnings"
   ]
  },
  {
   "cell_type": "code",
   "execution_count": 4,
   "id": "d8c35a28",
   "metadata": {},
   "outputs": [],
   "source": [
    "# ML Pkgs\n",
    "from sklearn.linear_model import LogisticRegression\n",
    "from sklearn.neighbors import KNeighborsClassifier\n",
    "from sklearn.tree import DecisionTreeClassifier\n",
    "from sklearn.naive_bayes import GaussianNB,MultinomialNB\n",
    "from sklearn.metrics import accuracy_score, hamming_loss, classification_report\n"
   ]
  },
  {
   "cell_type": "code",
   "execution_count": 5,
   "id": "fb15a260",
   "metadata": {},
   "outputs": [],
   "source": [
    "### Split Dataset into Train and Text\n",
    "from sklearn.model_selection import train_test_split"
   ]
  },
  {
   "cell_type": "code",
   "execution_count": 2,
   "id": "61f0b72f",
   "metadata": {},
   "outputs": [
    {
     "name": "stdout",
     "output_type": "stream",
     "text": [
      "   Fever  Tiredness  Dry-Cough  Difficulty-in-Breathing  Sore-Throat  \\\n",
      "0      1          1          1                        1            1   \n",
      "1      1          1          1                        1            1   \n",
      "2      1          1          1                        1            1   \n",
      "3      1          1          1                        1            1   \n",
      "4      1          1          1                        1            1   \n",
      "\n",
      "   None_Sympton  Pains  Nasal-Congestion  Runny-Nose  Diarrhea  ...  \\\n",
      "0             0      1                 1           1         1  ...   \n",
      "1             0      1                 1           1         1  ...   \n",
      "2             0      1                 1           1         1  ...   \n",
      "3             0      1                 1           1         1  ...   \n",
      "4             0      1                 1           1         1  ...   \n",
      "\n",
      "   Gender_Male  Gender_Transgender  Severity_Mild  Severity_Moderate  \\\n",
      "0            1                   0              1                  0   \n",
      "1            1                   0              1                  0   \n",
      "2            1                   0              1                  0   \n",
      "3            1                   0              0                  1   \n",
      "4            1                   0              0                  1   \n",
      "\n",
      "   Severity_None  Severity_Severe  Contact_Dont-Know  Contact_No  Contact_Yes  \\\n",
      "0              0                0                  0           0            1   \n",
      "1              0                0                  0           1            0   \n",
      "2              0                0                  1           0            0   \n",
      "3              0                0                  0           0            1   \n",
      "4              0                0                  0           1            0   \n",
      "\n",
      "   Country  \n",
      "0    China  \n",
      "1    China  \n",
      "2    China  \n",
      "3    China  \n",
      "4    China  \n",
      "\n",
      "[5 rows x 27 columns]\n"
     ]
    }
   ],
   "source": [
    "#Load the dataset into the dataframe\n",
    "df = pd.read_csv(r\"C:\\Users\\Admin8\\Downloads\\archive\\cleaned-Data.csv\")\n",
    "print(df.head())\n",
    "\n"
   ]
  },
  {
   "cell_type": "code",
   "execution_count": 14,
   "id": "0279a023",
   "metadata": {
    "scrolled": false
   },
   "outputs": [
    {
     "name": "stdout",
     "output_type": "stream",
     "text": [
      "Index(['Fever', 'Tiredness', 'Dry-Cough', 'Difficulty-in-Breathing',\n",
      "       'Sore-Throat', 'None_Sympton', 'Pains', 'Nasal-Congestion',\n",
      "       'Runny-Nose', 'Diarrhea', 'None_Experiencing', 'Age_0-9', 'Age_10-19',\n",
      "       'Age_20-24', 'Age_25-59', 'Age_60+', 'Gender_Female', 'Gender_Male',\n",
      "       'Gender_Transgender', 'Severity_Mild', 'Severity_Moderate',\n",
      "       'Severity_None', 'Severity_Severe', 'Contact_Dont-Know', 'Contact_No',\n",
      "       'Contact_Yes', 'Country'],\n",
      "      dtype='object')\n"
     ]
    }
   ],
   "source": [
    "# Assuming df is the DataFrame containing the data\n",
    "print(df.columns)  # Verify column names with 'df.columns'\n",
    "\n",
    "\n",
    "\n",
    "\n"
   ]
  },
  {
   "cell_type": "code",
   "execution_count": 19,
   "id": "e801cdb0",
   "metadata": {
    "scrolled": false
   },
   "outputs": [
    {
     "data": {
      "text/plain": [
       "Fever                      float64\n",
       "Tiredness                  float64\n",
       "Dry-Cough                  float64\n",
       "Difficulty-in-Breathing    float64\n",
       "Sore-Throat                float64\n",
       "Pains                      float64\n",
       "Nasal-Congestion           float64\n",
       "Runny-Nose                 float64\n",
       "Diarrhea                   float64\n",
       "Severity_Mild              float64\n",
       "Severity_Moderate          float64\n",
       "Severity_None              float64\n",
       "Severity_Severe            float64\n",
       "dtype: object"
      ]
     },
     "execution_count": 19,
     "metadata": {},
     "output_type": "execute_result"
    }
   ],
   "source": [
    "# Convert to Float\n",
    "df = df.astype(float)\n",
    "df.dtypes"
   ]
  },
  {
   "cell_type": "code",
   "execution_count": null,
   "id": "1db8c6ab",
   "metadata": {},
   "outputs": [],
   "source": [
    "df.drop(['Age_0-9'], axis = 1, inplace = True)\n",
    "df.drop(['Age_10-19'], axis = 1, inplace = True)\n",
    "df.drop(['Age_20-24'], axis = 1, inplace = True)\n",
    "df.drop(['Age_25-59'], axis = 1, inplace = True)\n",
    "df.drop(['Age_60+'], axis = 1, inplace = True)\n",
    "df.drop(['Gender_Female'], axis = 1, inplace = True)\n",
    "df.drop(['Gender_Male'], axis = 1, inplace = True)\n",
    "df.drop(['Gender_Transgender'], axis = 1, inplace = True)\n",
    "df.drop(['None_Experiencing'], axis = 1, inplace = True)\n",
    "df.drop(['None_Sympton'], axis = 1, inplace = True)\n",
    "df.drop(['Contact_Dont-Know'], axis = 1, inplace = True)\n",
    "df.drop(['Contact_No'], axis = 1, inplace = True)\n",
    "df.drop(['Contact_Yes'], axis = 1, inplace = True)"
   ]
  },
  {
   "cell_type": "code",
   "execution_count": 4,
   "id": "994de8ac",
   "metadata": {},
   "outputs": [
    {
     "name": "stdout",
     "output_type": "stream",
     "text": [
      "   Fever  Tiredness  Dry-Cough  Difficulty-in-Breathing  Sore-Throat  Pains  \\\n",
      "0      1          1          1                        1            1      1   \n",
      "1      1          1          1                        1            1      1   \n",
      "2      1          1          1                        1            1      1   \n",
      "3      1          1          1                        1            1      1   \n",
      "4      1          1          1                        1            1      1   \n",
      "\n",
      "   Nasal-Congestion  Runny-Nose  Diarrhea  Severity_Mild  Severity_Moderate  \\\n",
      "0                 1           1         1              1                  0   \n",
      "1                 1           1         1              1                  0   \n",
      "2                 1           1         1              1                  0   \n",
      "3                 1           1         1              0                  1   \n",
      "4                 1           1         1              0                  1   \n",
      "\n",
      "   Severity_None  Severity_Severe  \n",
      "0              0                0  \n",
      "1              0                0  \n",
      "2              0                0  \n",
      "3              0                0  \n",
      "4              0                0  \n"
     ]
    }
   ],
   "source": [
    "#Drop the columns that do not have effect on the model\n",
    "\n",
    "df.drop(['Country'], axis = 1, inplace = True)\n",
    "\n",
    "\n",
    "print(df.head())"
   ]
  },
  {
   "cell_type": "markdown",
   "id": "f71b509d",
   "metadata": {},
   "source": [
    "# Improve the class imbalnce using SMOTE technique"
   ]
  },
  {
   "cell_type": "code",
   "execution_count": 5,
   "id": "5d18abb1",
   "metadata": {},
   "outputs": [],
   "source": [
    "\n",
    "import pandas as pd\n",
    "from sklearn.model_selection import train_test_split\n",
    "\n",
    "# Assuming the column name for the target variable is 'severity' which will contain 4 separate severity classes\n",
    "\n",
    "# Define the input features (X)\n",
    "\n",
    "X = df[['Fever', 'Tiredness', 'Dry-Cough', 'Difficulty-in-Breathing','Sore-Throat', 'Pains', 'Nasal-Congestion', 'Runny-Nose', 'Diarrhea']]\n",
    "\n",
    "# Define the target variables (y)\n",
    "y = df[['Severity_Mild', 'Severity_Moderate', 'Severity_None', 'Severity_Severe']]\n",
    "\n",
    "# Split the data into training and testing sets\n",
    "X_train, X_test, y_train, y_test = train_test_split(X, y, test_size=0.2, random_state=42)\n",
    "\n"
   ]
  },
  {
   "cell_type": "code",
   "execution_count": 12,
   "id": "43c54a69",
   "metadata": {},
   "outputs": [],
   "source": [
    "from sklearn.ensemble import RandomForestClassifier\n"
   ]
  },
  {
   "cell_type": "markdown",
   "id": "aafe4fe9",
   "metadata": {},
   "source": [
    "# Using each class to create 4 instances of prediction\n",
    "\n"
   ]
  },
  {
   "cell_type": "code",
   "execution_count": 6,
   "id": "9900c925",
   "metadata": {},
   "outputs": [],
   "source": [
    "# y1 = Severity_None\n",
    "from sklearn.model_selection import train_test_split\n",
    "\n",
    "X = df.drop(['Severity_Mild', 'Severity_Moderate', 'Severity_None', 'Severity_Severe'], axis=1)  # Input features (all columns except the target variable)\n",
    "y1 = df[['Severity_None']].values  # Target variable as a NumPy array\n",
    "\n",
    "# Split the data into training and testing sets\n",
    "X_train, X_test, y1_train, y1_test = train_test_split(X, y1, test_size=0.2, random_state=42)"
   ]
  },
  {
   "cell_type": "code",
   "execution_count": 7,
   "id": "46526cf2",
   "metadata": {},
   "outputs": [
    {
     "name": "stdout",
     "output_type": "stream",
     "text": [
      "0         0\n",
      "1         0\n",
      "2         0\n",
      "3         0\n",
      "4         0\n",
      "         ..\n",
      "316795    0\n",
      "316796    0\n",
      "316797    1\n",
      "316798    1\n",
      "316799    1\n",
      "Name: Severity_None, Length: 316800, dtype: int64\n"
     ]
    }
   ],
   "source": [
    "print(df['Severity_None'])"
   ]
  },
  {
   "cell_type": "code",
   "execution_count": 8,
   "id": "620e36db",
   "metadata": {},
   "outputs": [],
   "source": [
    "# y2 = Severity_Mild\n",
    "from sklearn.model_selection import train_test_split\n",
    "\n",
    "X = df.drop(['Severity_Mild', 'Severity_Moderate', 'Severity_None', 'Severity_Severe'], axis=1)  # Input features (all columns except the target variable)\n",
    "y2 = df[['Severity_Mild']].values  # Target variable as a NumPy array\n",
    "\n",
    "# Split the data into training and testing sets\n",
    "X_train, X_test, y2_train, y2_test = train_test_split(X, y2, test_size=0.2, random_state=42)"
   ]
  },
  {
   "cell_type": "code",
   "execution_count": 9,
   "id": "45aaf750",
   "metadata": {},
   "outputs": [],
   "source": [
    "# y3 = Severity_Moderate\n",
    "from sklearn.model_selection import train_test_split\n",
    "\n",
    "X = df.drop(['Severity_Mild', 'Severity_Moderate', 'Severity_None', 'Severity_Severe'], axis=1)  # Input features (all columns except the target variable)\n",
    "y3 = df[['Severity_Moderate']].values  # Target variable as a NumPy array\n",
    "\n",
    "# Split the data into training and testing sets\n",
    "X_train, X_test, y3_train, y3_test = train_test_split(X, y3, test_size=0.2, random_state=42)"
   ]
  },
  {
   "cell_type": "code",
   "execution_count": 10,
   "id": "9e98051c",
   "metadata": {},
   "outputs": [],
   "source": [
    "# y4 = Severity_Severe\n",
    "from sklearn.model_selection import train_test_split\n",
    "\n",
    "X = df.drop(['Severity_Mild', 'Severity_Moderate', 'Severity_None', 'Severity_Severe'], axis=1)  # Input features (all columns except the target variable)\n",
    "y4 = df[['Severity_Severe']].values  # Target variable as a NumPy array\n",
    "\n",
    "# Split the data into training and testing sets\n",
    "X_train, X_test, y4_train, y4_test = train_test_split(X, y4, test_size=0.2, random_state=42)"
   ]
  },
  {
   "cell_type": "code",
   "execution_count": 13,
   "id": "c2ec4faa",
   "metadata": {},
   "outputs": [],
   "source": [
    "from imblearn.over_sampling import SMOTE\n",
    "from imblearn.under_sampling import RandomUnderSampler\n",
    "\n",
    "# Apply SMOTE oversampling for y1\n",
    "smote_y1 = SMOTE()\n",
    "X_train_smote_y1, y1_train_smote = smote_y1.fit_resample(X_train, y1_train)\n",
    "\n",
    "# Apply RandomUnderSampler undersampling for y2\n",
    "rus_y2 = RandomUnderSampler()\n",
    "X_train_rus_y2, y2_train_rus = rus_y2.fit_resample(X_train, y2_train)\n",
    "\n",
    "# Apply SMOTE oversampling for y3\n",
    "smote_y3 = SMOTE()\n",
    "X_train_smote_y3, y3_train_smote = smote_y3.fit_resample(X_train, y3_train)\n",
    "\n",
    "# Apply RandomUnderSampler undersampling for y4\n",
    "rus_y4 = RandomUnderSampler()\n",
    "X_train_rus_y4, y4_train_rus = rus_y4.fit_resample(X_train, y4_train)\n",
    "\n",
    "# Now you can use the balanced data for training and testing\n",
    "# Example with oversampled data for y1\n",
    "classifier_y1 = RandomForestClassifier()  # Replace YourClassifier with your desired classifier\n",
    "classifier_y1.fit(X_train_smote_y1, y1_train_smote)\n",
    "y1_pred = classifier_y1.predict(X_test)\n",
    "\n",
    "# Example with undersampled data for y2\n",
    "classifier_y2 = RandomForestClassifier()  # Replace YourClassifier with your desired classifier\n",
    "classifier_y2.fit(X_train_rus_y2, y2_train_rus)\n",
    "y2_pred = classifier_y2.predict(X_test)\n",
    "\n",
    "# Example with oversampled data for y3\n",
    "classifier_y3 = RandomForestClassifier()  # Replace YourClassifier with your desired classifier\n",
    "classifier_y3.fit(X_train_smote_y3, y3_train_smote)\n",
    "y3_pred = classifier_y3.predict(X_test)\n",
    "\n",
    "# Example with undersampled data for y4\n",
    "classifier_y4 = RandomForestClassifier()  # Replace YourClassifier with your desired classifier\n",
    "classifier_y4.fit(X_train_rus_y4, y4_train_rus)\n",
    "y4_pred = classifier_y4.predict(X_test)\n"
   ]
  },
  {
   "cell_type": "code",
   "execution_count": 14,
   "id": "9184c3d5",
   "metadata": {},
   "outputs": [
    {
     "name": "stdout",
     "output_type": "stream",
     "text": [
      "Metrics scores for y1:\n",
      "Accuracy: 0.4696811868686869\n",
      "Precision: 0.23679863118768069\n",
      "Recall: 0.5094243828139874\n",
      "F1-score: 0.32331084482932226\n",
      "\n",
      "Metrics scores for y2:\n",
      "Accuracy: 0.4845959595959596\n",
      "Precision: 0.24446214651184167\n",
      "Recall: 0.4994679186228482\n",
      "F1-score: 0.32825934915867855\n",
      "\n",
      "Metrics scores for y3:\n",
      "Accuracy: 0.49761679292929295\n",
      "Precision: 0.2397685669456067\n",
      "Recall: 0.46105977748444277\n",
      "F1-score: 0.31547708651426853\n",
      "\n",
      "Metrics scores for y4:\n",
      "Accuracy: 0.493102904040404\n",
      "Precision: 0.24268767260858648\n",
      "Recall: 0.4919524142757173\n",
      "F1-score: 0.3250320492612908\n"
     ]
    }
   ],
   "source": [
    "# Calculate accuracy\n",
    "from sklearn.metrics import accuracy_score, precision_score, recall_score, f1_score\n",
    "\n",
    "# Calculate metric scores for y1\n",
    "y1_accuracy = accuracy_score(y1_test, y1_pred)\n",
    "y1_precision = precision_score(y1_test, y1_pred)\n",
    "y1_recall = recall_score(y1_test, y1_pred)\n",
    "y1_f1 = f1_score(y1_test, y1_pred)\n",
    "\n",
    "\n",
    "# Calculate metric scores for y2\n",
    "y2_accuracy = accuracy_score(y2_test, y2_pred)\n",
    "y2_precision = precision_score(y2_test, y2_pred)\n",
    "y2_recall = recall_score(y2_test, y2_pred)\n",
    "y2_f1 = f1_score(y2_test, y2_pred)\n",
    "\n",
    "# Calculate metric scores for y3\n",
    "y3_accuracy = accuracy_score(y3_test, y3_pred)\n",
    "y3_precision = precision_score(y3_test, y3_pred)\n",
    "y3_recall = recall_score(y3_test, y3_pred)\n",
    "y3_f1 = f1_score(y3_test, y3_pred)\n",
    "\n",
    "# Calculate metric scores for y4\n",
    "y4_accuracy = accuracy_score(y4_test, y4_pred)\n",
    "y4_precision = precision_score(y4_test, y4_pred)\n",
    "y4_recall = recall_score(y4_test, y4_pred)\n",
    "y4_f1 = f1_score(y4_test, y4_pred)\n",
    "\n",
    "# Print the metric scores\n",
    "print(\"Metrics scores for y1:\")\n",
    "print(\"Accuracy:\", y1_accuracy)\n",
    "print(\"Precision:\", y1_precision)\n",
    "print(\"Recall:\", y1_recall)\n",
    "print(\"F1-score:\", y1_f1)\n",
    "print()\n",
    "\n",
    "print(\"Metrics scores for y2:\")\n",
    "print(\"Accuracy:\", y2_accuracy)\n",
    "print(\"Precision:\", y2_precision)\n",
    "print(\"Recall:\", y2_recall)\n",
    "print(\"F1-score:\", y2_f1)\n",
    "print()\n",
    "\n",
    "print(\"Metrics scores for y3:\")\n",
    "print(\"Accuracy:\", y3_accuracy)\n",
    "print(\"Precision:\", y3_precision)\n",
    "print(\"Recall:\", y3_recall)\n",
    "print(\"F1-score:\", y3_f1)\n",
    "print()\n",
    "\n",
    "print(\"Metrics scores for y4:\")\n",
    "print(\"Accuracy:\", y4_accuracy)\n",
    "print(\"Precision:\", y4_precision)\n",
    "print(\"Recall:\", y4_recall)\n",
    "print(\"F1-score:\", y4_f1)\n"
   ]
  },
  {
   "cell_type": "markdown",
   "id": "efaa27a8",
   "metadata": {},
   "source": [
    "# Using Multi-Perceptron to replace the random classifier"
   ]
  },
  {
   "cell_type": "code",
   "execution_count": 16,
   "id": "809b83ed",
   "metadata": {},
   "outputs": [
    {
     "name": "stdout",
     "output_type": "stream",
     "text": [
      "Metrics scores:\n",
      "Accuracy: 0.0\n",
      "Precision: 0.0\n",
      "Recall: 0.0\n",
      "F1-score: 0.0\n"
     ]
    },
    {
     "name": "stderr",
     "output_type": "stream",
     "text": [
      "C:\\Users\\admin\\anaconda3\\lib\\site-packages\\sklearn\\metrics\\_classification.py:1344: UndefinedMetricWarning: Precision is ill-defined and being set to 0.0 due to no predicted samples. Use `zero_division` parameter to control this behavior.\n",
      "  _warn_prf(average, modifier, msg_start, len(result))\n"
     ]
    }
   ],
   "source": [
    "from sklearn.neural_network import MLPClassifier\n",
    "from sklearn.metrics import accuracy_score, precision_score, recall_score, f1_score\n",
    "\n",
    "# Create an instance of the MLPClassifier\n",
    "mlp = MLPClassifier(hidden_layer_sizes=(20, 15, 100), activation='relu', random_state=42)\n",
    "\n",
    "# Fit the MLP classifier to the training data\n",
    "mlp.fit(X_train, y_train)\n",
    "\n",
    "# Make predictions on the test data\n",
    "y_pred = mlp.predict(X_test)\n",
    "\n",
    "# Calculate evaluation metrics\n",
    "accuracy = accuracy_score(y_test, y_pred)\n",
    "precision = precision_score(y_test, y_pred, average='micro')\n",
    "recall = recall_score(y_test, y_pred, average='micro')\n",
    "f1 = f1_score(y_test, y_pred, average='micro')\n",
    "\n",
    "# Print the metrics scores\n",
    "print(\"Metrics scores:\")\n",
    "print(\"Accuracy:\", accuracy)\n",
    "print(\"Precision:\", precision)\n",
    "print(\"Recall:\", recall)\n",
    "print(\"F1-score:\", f1)"
   ]
  },
  {
   "cell_type": "code",
   "execution_count": 135,
   "id": "1e717cd6",
   "metadata": {},
   "outputs": [],
   "source": [
    "from sklearn.model_selection import train_test_split\n",
    "\n",
    "X = df.drop(['Severity_Mild', 'Severity_Moderate', 'Severity_None', 'Severity_Severe'], axis=1)  # Input features (all columns except the target variable)\n",
    "y = df[['Severity_Mild', 'Severity_Moderate', 'Severity_None', 'Severity_Severe']].values  # Target variable as a NumPy array\n",
    "\n",
    "# Split the data into training and testing sets\n",
    "X_train, X_test, y_train, y_test = train_test_split(X, y, test_size=0.2, random_state=42, stratify=y)\n"
   ]
  },
  {
   "cell_type": "code",
   "execution_count": 132,
   "id": "4424f981",
   "metadata": {},
   "outputs": [
    {
     "name": "stdout",
     "output_type": "stream",
     "text": [
      "        Fever  Tiredness  Dry-Cough  Difficulty-in-Breathing  Sore-Throat  \\\n",
      "125151      1          0          0                        0            0   \n",
      "36050       1          1          1                        1            0   \n",
      "222457      0          1          1                        1            1   \n",
      "250914      0          0          0                        1            1   \n",
      "296710      0          1          1                        0            0   \n",
      "...       ...        ...        ...                      ...          ...   \n",
      "119879      0          0          0                        1            1   \n",
      "259178      0          0          1                        0            0   \n",
      "131932      0          1          1                        0            0   \n",
      "146867      0          1          0                        0            0   \n",
      "121958      0          0          1                        0            0   \n",
      "\n",
      "        Pains  Nasal-Congestion  Runny-Nose  Diarrhea  \n",
      "125151      1                 1           1         0  \n",
      "36050       1                 1           1         0  \n",
      "222457      1                 0           0         0  \n",
      "250914      0                 0           0         1  \n",
      "296710      0                 0           1         0  \n",
      "...       ...               ...         ...       ...  \n",
      "119879      1                 1           1         0  \n",
      "259178      0                 1           1         0  \n",
      "131932      0                 1           1         0  \n",
      "146867      0                 1           0         0  \n",
      "121958      0                 0           0         0  \n",
      "\n",
      "[253440 rows x 9 columns]\n"
     ]
    }
   ],
   "source": [
    "print(X_train)"
   ]
  },
  {
   "cell_type": "code",
   "execution_count": 136,
   "id": "7ffe7624",
   "metadata": {},
   "outputs": [
    {
     "name": "stdout",
     "output_type": "stream",
     "text": [
      "[[1 0 0 0]\n",
      " [1 0 0 0]\n",
      " [0 0 1 0]\n",
      " ...\n",
      " [0 0 1 0]\n",
      " [1 0 0 0]\n",
      " [0 1 0 0]]\n"
     ]
    }
   ],
   "source": [
    "print(y_train)"
   ]
  },
  {
   "cell_type": "code",
   "execution_count": 137,
   "id": "1af8636c",
   "metadata": {
    "scrolled": true
   },
   "outputs": [
    {
     "data": {
      "text/html": [
       "<style>#sk-container-id-4 {color: black;background-color: white;}#sk-container-id-4 pre{padding: 0;}#sk-container-id-4 div.sk-toggleable {background-color: white;}#sk-container-id-4 label.sk-toggleable__label {cursor: pointer;display: block;width: 100%;margin-bottom: 0;padding: 0.3em;box-sizing: border-box;text-align: center;}#sk-container-id-4 label.sk-toggleable__label-arrow:before {content: \"▸\";float: left;margin-right: 0.25em;color: #696969;}#sk-container-id-4 label.sk-toggleable__label-arrow:hover:before {color: black;}#sk-container-id-4 div.sk-estimator:hover label.sk-toggleable__label-arrow:before {color: black;}#sk-container-id-4 div.sk-toggleable__content {max-height: 0;max-width: 0;overflow: hidden;text-align: left;background-color: #f0f8ff;}#sk-container-id-4 div.sk-toggleable__content pre {margin: 0.2em;color: black;border-radius: 0.25em;background-color: #f0f8ff;}#sk-container-id-4 input.sk-toggleable__control:checked~div.sk-toggleable__content {max-height: 200px;max-width: 100%;overflow: auto;}#sk-container-id-4 input.sk-toggleable__control:checked~label.sk-toggleable__label-arrow:before {content: \"▾\";}#sk-container-id-4 div.sk-estimator input.sk-toggleable__control:checked~label.sk-toggleable__label {background-color: #d4ebff;}#sk-container-id-4 div.sk-label input.sk-toggleable__control:checked~label.sk-toggleable__label {background-color: #d4ebff;}#sk-container-id-4 input.sk-hidden--visually {border: 0;clip: rect(1px 1px 1px 1px);clip: rect(1px, 1px, 1px, 1px);height: 1px;margin: -1px;overflow: hidden;padding: 0;position: absolute;width: 1px;}#sk-container-id-4 div.sk-estimator {font-family: monospace;background-color: #f0f8ff;border: 1px dotted black;border-radius: 0.25em;box-sizing: border-box;margin-bottom: 0.5em;}#sk-container-id-4 div.sk-estimator:hover {background-color: #d4ebff;}#sk-container-id-4 div.sk-parallel-item::after {content: \"\";width: 100%;border-bottom: 1px solid gray;flex-grow: 1;}#sk-container-id-4 div.sk-label:hover label.sk-toggleable__label {background-color: #d4ebff;}#sk-container-id-4 div.sk-serial::before {content: \"\";position: absolute;border-left: 1px solid gray;box-sizing: border-box;top: 0;bottom: 0;left: 50%;z-index: 0;}#sk-container-id-4 div.sk-serial {display: flex;flex-direction: column;align-items: center;background-color: white;padding-right: 0.2em;padding-left: 0.2em;position: relative;}#sk-container-id-4 div.sk-item {position: relative;z-index: 1;}#sk-container-id-4 div.sk-parallel {display: flex;align-items: stretch;justify-content: center;background-color: white;position: relative;}#sk-container-id-4 div.sk-item::before, #sk-container-id-4 div.sk-parallel-item::before {content: \"\";position: absolute;border-left: 1px solid gray;box-sizing: border-box;top: 0;bottom: 0;left: 50%;z-index: -1;}#sk-container-id-4 div.sk-parallel-item {display: flex;flex-direction: column;z-index: 1;position: relative;background-color: white;}#sk-container-id-4 div.sk-parallel-item:first-child::after {align-self: flex-end;width: 50%;}#sk-container-id-4 div.sk-parallel-item:last-child::after {align-self: flex-start;width: 50%;}#sk-container-id-4 div.sk-parallel-item:only-child::after {width: 0;}#sk-container-id-4 div.sk-dashed-wrapped {border: 1px dashed gray;margin: 0 0.4em 0.5em 0.4em;box-sizing: border-box;padding-bottom: 0.4em;background-color: white;}#sk-container-id-4 div.sk-label label {font-family: monospace;font-weight: bold;display: inline-block;line-height: 1.2em;}#sk-container-id-4 div.sk-label-container {text-align: center;}#sk-container-id-4 div.sk-container {/* jupyter's `normalize.less` sets `[hidden] { display: none; }` but bootstrap.min.css set `[hidden] { display: none !important; }` so we also need the `!important` here to be able to override the default hidden behavior on the sphinx rendered scikit-learn.org. See: https://github.com/scikit-learn/scikit-learn/issues/21755 */display: inline-block !important;position: relative;}#sk-container-id-4 div.sk-text-repr-fallback {display: none;}</style><div id=\"sk-container-id-4\" class=\"sk-top-container\"><div class=\"sk-text-repr-fallback\"><pre>RandomForestClassifier(n_estimators=10, random_state=30)</pre><b>In a Jupyter environment, please rerun this cell to show the HTML representation or trust the notebook. <br />On GitHub, the HTML representation is unable to render, please try loading this page with nbviewer.org.</b></div><div class=\"sk-container\" hidden><div class=\"sk-item\"><div class=\"sk-estimator sk-toggleable\"><input class=\"sk-toggleable__control sk-hidden--visually\" id=\"sk-estimator-id-4\" type=\"checkbox\" checked><label for=\"sk-estimator-id-4\" class=\"sk-toggleable__label sk-toggleable__label-arrow\">RandomForestClassifier</label><div class=\"sk-toggleable__content\"><pre>RandomForestClassifier(n_estimators=10, random_state=30)</pre></div></div></div></div></div>"
      ],
      "text/plain": [
       "RandomForestClassifier(n_estimators=10, random_state=30)"
      ]
     },
     "execution_count": 137,
     "metadata": {},
     "output_type": "execute_result"
    }
   ],
   "source": [
    "model = RandomForestClassifier(n_estimators = 10, random_state = 30)\n",
    "model.fit(X_train, y_train)"
   ]
  },
  {
   "cell_type": "code",
   "execution_count": 134,
   "id": "0584aba9",
   "metadata": {
    "scrolled": true
   },
   "outputs": [
    {
     "name": "stdout",
     "output_type": "stream",
     "text": [
      "Accuracy =  0.0\n",
      "Dry-Cough                  0.153289\n",
      "Pains                      0.128750\n",
      "Nasal-Congestion           0.122165\n",
      "Runny-Nose                 0.114081\n",
      "Fever                      0.113166\n",
      "Tiredness                  0.108462\n",
      "Difficulty-in-Breathing    0.099367\n",
      "Sore-Throat                0.084423\n",
      "Diarrhea                   0.076297\n",
      "dtype: float64\n"
     ]
    }
   ],
   "source": [
    "prediction_test = model.predict(X_test)\n",
    "#print(y_test, prediction_test)\n",
    "\n",
    "from sklearn import metrics\n",
    "#Print the prediction accuracy\n",
    "print (\"Accuracy = \", metrics.accuracy_score(y_test, prediction_test))\n",
    "#Test accuracy for various test sizes and see how it gets better with more training data\n",
    "\n",
    "#One amazing feature of Random forest is that it provides us info on feature importances\n",
    "# Get numerical feature importances\n",
    "#importances = list(model.feature_importances_)\n",
    "\n",
    "#Let us print them into a nice format.\n",
    "\n",
    "feature_list = list(X.columns)\n",
    "feature_imp = pd.Series(model.feature_importances_,index=feature_list).sort_values(ascending=False)\n",
    "print(feature_imp)"
   ]
  },
  {
   "cell_type": "markdown",
   "id": "e3951e19",
   "metadata": {},
   "source": [
    "# Improving the accuracy of the Model using XGBoost and Cross Validation"
   ]
  },
  {
   "cell_type": "code",
   "execution_count": 88,
   "id": "b489962a",
   "metadata": {},
   "outputs": [
    {
     "name": "stdout",
     "output_type": "stream",
     "text": [
      "Requirement already satisfied: xgboost in c:\\users\\admin\\anaconda3\\lib\\site-packages (1.7.5)\n",
      "Requirement already satisfied: scipy in c:\\users\\admin\\anaconda3\\lib\\site-packages (from xgboost) (1.10.0)\n",
      "Requirement already satisfied: numpy in c:\\users\\admin\\anaconda3\\lib\\site-packages (from xgboost) (1.23.5)\n",
      "Note: you may need to restart the kernel to use updated packages.\n"
     ]
    }
   ],
   "source": [
    "pip install xgboost"
   ]
  },
  {
   "cell_type": "code",
   "execution_count": 89,
   "id": "582f9eb2",
   "metadata": {},
   "outputs": [
    {
     "name": "stdout",
     "output_type": "stream",
     "text": [
      "Accuracy: 75.19%\n"
     ]
    }
   ],
   "source": [
    "import xgboost as xgb\n",
    "from sklearn.metrics import accuracy_score\n",
    "\n",
    "# Assuming you have already split your data into X_train, X_test, y_train, y_test\n",
    "\n",
    "# Create an XGBoost classifier\n",
    "model = xgb.XGBClassifier()\n",
    "\n",
    "# Train the model on the training data\n",
    "model.fit(X_train, y_train)\n",
    "\n",
    "# Make predictions on the test data\n",
    "predictions = model.predict(X_test)\n",
    "\n",
    "# Calculate accuracy score\n",
    "accuracy = accuracy_score(y_test, predictions)\n",
    "print(\"Accuracy: %.2f%%\" % (accuracy * 100.0))\n"
   ]
  },
  {
   "cell_type": "code",
   "execution_count": 90,
   "id": "d66b85c5",
   "metadata": {},
   "outputs": [
    {
     "name": "stdout",
     "output_type": "stream",
     "text": [
      "Cross-Validation Scores: [0.74952652 0.74952652 0.74952652 0.74952652 0.74950679]\n",
      "Mean Accuracy: 0.7495225694444445\n"
     ]
    }
   ],
   "source": [
    "#Cross-Validation\n",
    "from sklearn.model_selection import cross_val_score\n",
    "from sklearn.ensemble import RandomForestClassifier\n",
    "\n",
    "# Assuming you have already split your data into X_train, X_test, y_train, y_test\n",
    "\n",
    "# Create a Random Forest Classifier\n",
    "model = RandomForestClassifier()\n",
    "\n",
    "# Perform cross-validation\n",
    "cv_scores = cross_val_score(model, X_train, y_train, cv=5)\n",
    "\n",
    "# Print the cross-validation scores\n",
    "print(\"Cross-Validation Scores:\", cv_scores)\n",
    "print(\"Mean Accuracy:\", cv_scores.mean())\n"
   ]
  },
  {
   "cell_type": "code",
   "execution_count": 91,
   "id": "a6ee16ef",
   "metadata": {},
   "outputs": [
    {
     "name": "stdout",
     "output_type": "stream",
     "text": [
      "Diarrhea                   0.125546\n",
      "Runny-Nose                 0.123422\n",
      "Nasal-Congestion           0.119573\n",
      "Pains                      0.110879\n",
      "Difficulty-in-Breathing    0.106977\n",
      "Dry-Cough                  0.106296\n",
      "Fever                      0.106088\n",
      "Sore-Throat                0.102702\n",
      "Tiredness                  0.098517\n",
      "dtype: float64\n"
     ]
    }
   ],
   "source": [
    "# Create a random forest classifier\n",
    "model = RandomForestClassifier()\n",
    "\n",
    "# Train the model\n",
    "model.fit(X, y)\n",
    "\n",
    "# Get feature importances\n",
    "importances = model.feature_importances_\n",
    "\n",
    "# Create a pandas Series for feature importances\n",
    "feature_imp = pd.Series(importances, index=X.columns).sort_values(ascending=False)\n",
    "\n",
    "# Print feature importances\n",
    "print(feature_imp)\n",
    "\n",
    "\n",
    "\n",
    "\n"
   ]
  },
  {
   "cell_type": "markdown",
   "id": "fcbaa052",
   "metadata": {},
   "source": [
    "# Support Vector Machine Classifier"
   ]
  },
  {
   "cell_type": "code",
   "execution_count": 92,
   "id": "3993a373",
   "metadata": {},
   "outputs": [
    {
     "name": "stdout",
     "output_type": "stream",
     "text": [
      "Accuracy: 0.7519097222222222\n"
     ]
    }
   ],
   "source": [
    "# Create and fit the SVM model\n",
    "\n",
    "model = SVC()\n",
    "model.fit(X_train, y_train)\n",
    "\n",
    "# Evaluate the model\n",
    "accuracy = model.score(X_test, y_test)\n",
    "print(\"Accuracy:\", accuracy)"
   ]
  },
  {
   "cell_type": "markdown",
   "id": "c0dd5eb8",
   "metadata": {},
   "source": [
    "svm_classifier = SVC(kernel='rbf', C=1.0, gamma='scale')\n",
    "svm_classifier.fit(X_train, y_train)\n",
    "y_pred = svm_classifier.predict(X_test)\n",
    "\n",
    "#Evaluate the accuracy of the model\n",
    "accuracy = accuracy_score(y_test, y_pred)\n",
    "print(\"Accuracy:\", accuracy)"
   ]
  },
  {
   "cell_type": "code",
   "execution_count": null,
   "id": "6649e5e4",
   "metadata": {},
   "outputs": [],
   "source": [
    "from sklearn.svm import SVC\n",
    "svm = SVC(kernel=\"linear\",random_state =0)  \n",
    "svm.fit(x_train, y_train)\n",
    "y_pred = svm.predict(x_test) "
   ]
  },
  {
   "cell_type": "markdown",
   "id": "888cfaeb",
   "metadata": {},
   "source": [
    "# Best parameters ior the model"
   ]
  },
  {
   "cell_type": "code",
   "execution_count": null,
   "id": "9b0b0052",
   "metadata": {},
   "outputs": [],
   "source": [
    "# Split the data into training and testing sets\n",
    "X_train, X_test, y_train, y_test = train_test_split(X, y, test_size=0.2, random_state=42)\n",
    "\n",
    "# Define the parameter grid for grid search\n",
    "param_grid = {\n",
    "    'kernel': ['linear', 'poly', 'rbf', 'sigmoid'],\n",
    "    'C': [0.1, 1, 10],\n",
    "    'gamma': [0.1, 0.01, 0.001]\n",
    "}\n",
    "\n",
    "# Create the SVM classifier\n",
    "svm_classifier = SVC()\n",
    "\n",
    "# Create the GridSearchCV object for hyperparameter tuning\n",
    "grid_search = GridSearchCV(svm_classifier, param_grid, scoring='accuracy', cv=5)\n",
    "\n",
    "# Fit the model on the training data\n",
    "grid_search.fit(X_train, y_train)\n",
    "\n",
    "# Get the best hyperparameters\n",
    "best_params = grid_search.best_params_\n",
    "print(\"Best Hyperparameters:\", best_params)\n",
    "\n",
    "# Create a new SVM classifier with the best hyperparameters\n",
    "best_svm_classifier = SVC(kernel=best_params['kernel'], C=best_params['C'], gamma=best_params['gamma'])\n",
    "\n",
    "# Train the model with the best hyperparameters\n",
    "best_svm_classifier.fit(X_train, y_train)\n",
    "\n",
    "# Make predictions on the test set\n",
    "y_pred = best_svm_classifier.predict(X_test)\n",
    "\n",
    "# Evaluate the model's performance\n",
    "accuracy = accuracy_score(y_test, y_pred)\n",
    "f1 = f1_score(y_test, y_pred)\n",
    "\n",
    "print(\"Accuracy:\", accuracy)\n",
    "print(\"F1 Score:\", f1)"
   ]
  }
 ],
 "metadata": {
  "kernelspec": {
   "display_name": "Python 3 (ipykernel)",
   "language": "python",
   "name": "python3"
  },
  "language_info": {
   "codemirror_mode": {
    "name": "ipython",
    "version": 3
   },
   "file_extension": ".py",
   "mimetype": "text/x-python",
   "name": "python",
   "nbconvert_exporter": "python",
   "pygments_lexer": "ipython3",
   "version": "3.10.9"
  }
 },
 "nbformat": 4,
 "nbformat_minor": 5
}
