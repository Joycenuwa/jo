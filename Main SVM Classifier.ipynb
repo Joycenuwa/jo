{
 "cells": [
  {
   "cell_type": "code",
   "execution_count": 2,
   "id": "6e1e2fd1",
   "metadata": {},
   "outputs": [],
   "source": [
    "# Load EDA Pckgs\n",
    "import pandas as pd\n",
    "import numpy as np "
   ]
  },
  {
   "cell_type": "code",
   "execution_count": 3,
   "id": "397505c5",
   "metadata": {},
   "outputs": [],
   "source": [
    "# Load Data Viz Pkgs\n",
    "import matplotlib.pyplot as plt\n",
    "import seaborn as sns"
   ]
  },
  {
   "cell_type": "code",
   "execution_count": 4,
   "id": "a1e62dc7",
   "metadata": {},
   "outputs": [],
   "source": [
    "import seaborn as sns \n",
    "import os\n",
    "from sklearn.ensemble import RandomForestClassifier\n",
    "from sklearn.svm import SVC\n",
    "from sklearn.model_selection import train_test_split\n",
    "from sklearn.metrics import accuracy_score\n",
    "from sklearn.metrics import confusion_matrix\n",
    "import sys\n",
    "from sklearn.svm import SVC\n",
    "from sklearn.model_selection import GridSearchCV\n",
    "from sklearn.metrics import accuracy_score, f1_score\n",
    "\n",
    "import warnings"
   ]
  },
  {
   "cell_type": "code",
   "execution_count": 5,
   "id": "d8c35a28",
   "metadata": {},
   "outputs": [],
   "source": [
    "# ML Pkgs\n",
    "from sklearn.linear_model import LogisticRegression\n",
    "from sklearn.neighbors import KNeighborsClassifier\n",
    "from sklearn.tree import DecisionTreeClassifier\n",
    "from sklearn.naive_bayes import GaussianNB,MultinomialNB\n",
    "from sklearn.metrics import accuracy_score, hamming_loss, classification_report\n"
   ]
  },
  {
   "cell_type": "code",
   "execution_count": 6,
   "id": "fb15a260",
   "metadata": {},
   "outputs": [],
   "source": [
    "### Split Dataset into Train and Text\n",
    "from sklearn.model_selection import train_test_split"
   ]
  },
  {
   "cell_type": "code",
   "execution_count": 12,
   "id": "fb51f2b9",
   "metadata": {},
   "outputs": [],
   "source": [
    "# Feature engineering\n",
    "from sklearn.feature_extraction.text import TfidfVectorizer\n",
    "\n"
   ]
  },
  {
   "cell_type": "code",
   "execution_count": null,
   "id": "f1995325",
   "metadata": {},
   "outputs": [],
   "source": []
  },
  {
   "cell_type": "code",
   "execution_count": 18,
   "id": "1c0f0312",
   "metadata": {},
   "outputs": [],
   "source": [
    "# Multi Label Pkgs\n",
    "from skmultilearn.problem_transform import BinaryRelevance\n",
    "from skmultilearn.problem_transform import ClassifierChain\n",
    "from skmultilearn.problem_transform import LabelPowerset\n",
    "from skmultilearn.adapt import MLkNN"
   ]
  },
  {
   "cell_type": "code",
   "execution_count": 19,
   "id": "b20ac990",
   "metadata": {},
   "outputs": [
    {
     "name": "stdout",
     "output_type": "stream",
     "text": [
      "Requirement already satisfied: scikit-multilearn in c:\\users\\admin8\\anaconda3i\\lib\\site-packages (0.2.0)\n"
     ]
    }
   ],
   "source": [
    "!pip install scikit-multilearn"
   ]
  },
  {
   "cell_type": "code",
   "execution_count": null,
   "id": "2938e782",
   "metadata": {},
   "outputs": [],
   "source": []
  },
  {
   "cell_type": "code",
   "execution_count": 24,
   "id": "61f0b72f",
   "metadata": {},
   "outputs": [
    {
     "name": "stdout",
     "output_type": "stream",
     "text": [
      "   Fever  Tiredness  Dry-Cough  Difficulty-in-Breathing  Sore-Throat  \\\n",
      "0      1          1          1                        1            1   \n",
      "1      1          1          1                        1            1   \n",
      "2      1          1          1                        1            1   \n",
      "3      1          1          1                        1            1   \n",
      "4      1          1          1                        1            1   \n",
      "\n",
      "   None_Sympton  Pains  Nasal-Congestion  Runny-Nose  Diarrhea  ...  \\\n",
      "0             0      1                 1           1         1  ...   \n",
      "1             0      1                 1           1         1  ...   \n",
      "2             0      1                 1           1         1  ...   \n",
      "3             0      1                 1           1         1  ...   \n",
      "4             0      1                 1           1         1  ...   \n",
      "\n",
      "   Gender_Male  Gender_Transgender  Severity_Mild  Severity_Moderate  \\\n",
      "0            1                   0              1                  0   \n",
      "1            1                   0              1                  0   \n",
      "2            1                   0              1                  0   \n",
      "3            1                   0              0                  1   \n",
      "4            1                   0              0                  1   \n",
      "\n",
      "   Severity_None  Severity_Severe  Contact_Dont-Know  Contact_No  Contact_Yes  \\\n",
      "0              0                0                  0           0            1   \n",
      "1              0                0                  0           1            0   \n",
      "2              0                0                  1           0            0   \n",
      "3              0                0                  0           0            1   \n",
      "4              0                0                  0           1            0   \n",
      "\n",
      "   Country  \n",
      "0    China  \n",
      "1    China  \n",
      "2    China  \n",
      "3    China  \n",
      "4    China  \n",
      "\n",
      "[5 rows x 27 columns]\n"
     ]
    }
   ],
   "source": [
    "#Load the dataset into the dataframe\n",
    "df = pd.read_csv(r\"C:\\Users\\Admin8\\Downloads\\archive\\cleaned-Data.csv\")\n",
    "print(df.head())\n",
    "\n"
   ]
  },
  {
   "cell_type": "code",
   "execution_count": 16,
   "id": "0279a023",
   "metadata": {
    "scrolled": false
   },
   "outputs": [
    {
     "name": "stdout",
     "output_type": "stream",
     "text": [
      "Index(['Fever', 'Tiredness', 'Dry-Cough', 'Difficulty-in-Breathing',\n",
      "       'Sore-Throat', 'None_Sympton', 'Pains', 'Nasal-Congestion',\n",
      "       'Runny-Nose', 'Diarrhea', 'None_Experiencing', 'Age_0-9', 'Age_10-19',\n",
      "       'Age_20-24', 'Age_25-59', 'Age_60+', 'Gender_Female', 'Gender_Male',\n",
      "       'Gender_Transgender', 'Severity_Mild', 'Severity_Moderate',\n",
      "       'Severity_None', 'Severity_Severe', 'Contact_Dont-Know', 'Contact_No',\n",
      "       'Contact_Yes', 'Country'],\n",
      "      dtype='object')\n"
     ]
    }
   ],
   "source": [
    "# Assuming df is the DataFrame containing the data\n",
    "print(df.columns)  # Verify column names with 'df.columns'\n",
    "\n",
    "\n",
    "\n",
    "\n"
   ]
  },
  {
   "cell_type": "code",
   "execution_count": 17,
   "id": "5f896aed",
   "metadata": {
    "scrolled": true
   },
   "outputs": [
    {
     "name": "stdout",
     "output_type": "stream",
     "text": [
      "0    217800\n",
      "1     99000\n",
      "Name: Fever, dtype: int64\n"
     ]
    }
   ],
   "source": [
    "#Count'Fever'column \n",
    "sizes = df['Fever'].value_counts(sort=True)\n",
    "print(sizes)"
   ]
  },
  {
   "cell_type": "code",
   "execution_count": 31,
   "id": "ce9f0586",
   "metadata": {},
   "outputs": [
    {
     "name": "stdout",
     "output_type": "stream",
     "text": [
      "   Fever  Tiredness  Dry-Cough  Difficulty-in-Breathing  Sore-Throat  Pains  \\\n",
      "0      1          1          1                        1            1      1   \n",
      "1      1          1          1                        1            1      1   \n",
      "2      1          1          1                        1            1      1   \n",
      "3      1          1          1                        1            1      1   \n",
      "4      1          1          1                        1            1      1   \n",
      "\n",
      "   Nasal-Congestion  Runny-Nose  Diarrhea  Severity_Mild  Severity_Moderate  \\\n",
      "0                 1           1         1              1                  0   \n",
      "1                 1           1         1              1                  0   \n",
      "2                 1           1         1              1                  0   \n",
      "3                 1           1         1              0                  1   \n",
      "4                 1           1         1              0                  1   \n",
      "\n",
      "   Severity_None  Severity_Severe  \n",
      "0              0                0  \n",
      "1              0                0  \n",
      "2              0                0  \n",
      "3              0                0  \n",
      "4              0                0  \n"
     ]
    }
   ],
   "source": [
    "#Drop the columns that do not have effect on the model\n",
    "df.drop(['Age_0-9'], axis = 1, inplace = True)\n",
    "df.drop(['Age_10-19'], axis = 1, inplace = True)\n",
    "df.drop(['Age_20-24'], axis = 1, inplace = True)\n",
    "df.drop(['Age_25-59'], axis = 1, inplace = True)\n",
    "df.drop(['Age_60+'], axis = 1, inplace = True)\n",
    "df.drop(['Gender_Female'], axis = 1, inplace = True)\n",
    "df.drop(['Gender_Male'], axis = 1, inplace = True)\n",
    "df.drop(['Gender_Transgender'], axis = 1, inplace = True)\n",
    "df.drop(['None_Experiencing'], axis = 1, inplace = True)\n",
    "df.drop(['None_Sympton'], axis = 1, inplace = True)\n",
    "df.drop(['Contact_Dont-Know'], axis = 1, inplace = True)\n",
    "df.drop(['Contact_No'], axis = 1, inplace = True)\n",
    "df.drop(['Contact_Yes'], axis = 1, inplace = True)\n",
    "df.drop(['Country'], axis = 1, inplace = True)\n",
    "\n",
    "\n",
    "\n",
    "print(df.head())"
   ]
  },
  {
   "cell_type": "code",
   "execution_count": 32,
   "id": "d2d1ea42",
   "metadata": {},
   "outputs": [
    {
     "data": {
      "text/plain": [
       "Fever                      int64\n",
       "Tiredness                  int64\n",
       "Dry-Cough                  int64\n",
       "Difficulty-in-Breathing    int64\n",
       "Sore-Throat                int64\n",
       "Pains                      int64\n",
       "Nasal-Congestion           int64\n",
       "Runny-Nose                 int64\n",
       "Diarrhea                   int64\n",
       "Severity_Mild              int64\n",
       "Severity_Moderate          int64\n",
       "Severity_None              int64\n",
       "Severity_Severe            int64\n",
       "dtype: object"
      ]
     },
     "execution_count": 32,
     "metadata": {},
     "output_type": "execute_result"
    }
   ],
   "source": [
    "# Check the data type\n",
    "df.dtypes\n"
   ]
  },
  {
   "cell_type": "code",
   "execution_count": 33,
   "id": "e801cdb0",
   "metadata": {},
   "outputs": [
    {
     "data": {
      "text/plain": [
       "Fever                      float64\n",
       "Tiredness                  float64\n",
       "Dry-Cough                  float64\n",
       "Difficulty-in-Breathing    float64\n",
       "Sore-Throat                float64\n",
       "Pains                      float64\n",
       "Nasal-Congestion           float64\n",
       "Runny-Nose                 float64\n",
       "Diarrhea                   float64\n",
       "Severity_Mild              float64\n",
       "Severity_Moderate          float64\n",
       "Severity_None              float64\n",
       "Severity_Severe            float64\n",
       "dtype: object"
      ]
     },
     "execution_count": 33,
     "metadata": {},
     "output_type": "execute_result"
    }
   ],
   "source": [
    "# Convert to Float\n",
    "df = df.astype(float)\n",
    "df.dtypes"
   ]
  },
  {
   "cell_type": "markdown",
   "id": "f71b509d",
   "metadata": {},
   "source": [
    "# Train the model using SVM classifier"
   ]
  },
  {
   "cell_type": "code",
   "execution_count": 35,
   "id": "5d18abb1",
   "metadata": {},
   "outputs": [],
   "source": [
    "\n",
    "import pandas as pd\n",
    "from sklearn.model_selection import train_test_split\n",
    "\n",
    "# Assuming the column name for the target variable is 'severity' which will contain 4 separate severity classes\n",
    "\n",
    "# Define the input features (X)\n",
    "\n",
    "X = df[['Fever', 'Tiredness', 'Dry-Cough', 'Difficulty-in-Breathing','Sore-Throat', 'Pains', 'Nasal-Congestion', 'Runny-Nose', 'Diarrhea']]\n",
    "\n",
    "# Define the target variables (y)\n",
    "y = df[['Severity_Mild', 'Severity_Moderate', 'Severity_None', 'Severity_Severe']]\n",
    "\n",
    "# Split the data into training and testing sets\n",
    "X_train, X_test, y_train, y_test = train_test_split(X, y, test_size=0.2, random_state=42)\n",
    "\n"
   ]
  },
  {
   "cell_type": "code",
   "execution_count": 65,
   "id": "b250f715",
   "metadata": {},
   "outputs": [],
   "source": [
    "# Split Data \n",
    "X_train,X_test,y_train,y_test = train_test_split(X,y,test_size=0.3,random_state=42)"
   ]
  },
  {
   "cell_type": "code",
   "execution_count": 132,
   "id": "4424f981",
   "metadata": {},
   "outputs": [
    {
     "name": "stdout",
     "output_type": "stream",
     "text": [
      "        Fever  Tiredness  Dry-Cough  Difficulty-in-Breathing  Sore-Throat  \\\n",
      "125151      1          0          0                        0            0   \n",
      "36050       1          1          1                        1            0   \n",
      "222457      0          1          1                        1            1   \n",
      "250914      0          0          0                        1            1   \n",
      "296710      0          1          1                        0            0   \n",
      "...       ...        ...        ...                      ...          ...   \n",
      "119879      0          0          0                        1            1   \n",
      "259178      0          0          1                        0            0   \n",
      "131932      0          1          1                        0            0   \n",
      "146867      0          1          0                        0            0   \n",
      "121958      0          0          1                        0            0   \n",
      "\n",
      "        Pains  Nasal-Congestion  Runny-Nose  Diarrhea  \n",
      "125151      1                 1           1         0  \n",
      "36050       1                 1           1         0  \n",
      "222457      1                 0           0         0  \n",
      "250914      0                 0           0         1  \n",
      "296710      0                 0           1         0  \n",
      "...       ...               ...         ...       ...  \n",
      "119879      1                 1           1         0  \n",
      "259178      0                 1           1         0  \n",
      "131932      0                 1           1         0  \n",
      "146867      0                 1           0         0  \n",
      "121958      0                 0           0         0  \n",
      "\n",
      "[253440 rows x 9 columns]\n"
     ]
    }
   ],
   "source": [
    "print(X_train)"
   ]
  },
  {
   "cell_type": "code",
   "execution_count": 136,
   "id": "7ffe7624",
   "metadata": {
    "scrolled": true
   },
   "outputs": [
    {
     "name": "stdout",
     "output_type": "stream",
     "text": [
      "[[1 0 0 0]\n",
      " [1 0 0 0]\n",
      " [0 0 1 0]\n",
      " ...\n",
      " [0 0 1 0]\n",
      " [1 0 0 0]\n",
      " [0 1 0 0]]\n"
     ]
    }
   ],
   "source": [
    "print(y_train)"
   ]
  },
  {
   "cell_type": "markdown",
   "id": "fcbaa052",
   "metadata": {},
   "source": [
    "# Support Vector Machine Classifier"
   ]
  },
  {
   "cell_type": "code",
   "execution_count": 92,
   "id": "3993a373",
   "metadata": {},
   "outputs": [
    {
     "name": "stdout",
     "output_type": "stream",
     "text": [
      "Accuracy: 0.7519097222222222\n"
     ]
    }
   ],
   "source": [
    "# Create and fit the SVM model\n",
    "\n",
    "model = SVC()\n",
    "model.fit(X_train, y_train)\n",
    "\n",
    "# Evaluate the model\n",
    "accuracy = model.score(X_test, y_test)\n",
    "print(\"Accuracy:\", accuracy)"
   ]
  },
  {
   "cell_type": "markdown",
   "id": "c0dd5eb8",
   "metadata": {},
   "source": [
    "svm_classifier = SVC(kernel='rbf', C=1.0, gamma='scale')\n",
    "svm_classifier.fit(X_train, y_train)\n",
    "y_pred = svm_classifier.predict(X_test)\n",
    "\n",
    "#Evaluate the accuracy of the model\n",
    "accuracy = accuracy_score(y_test, y_pred)\n",
    "print(\"Accuracy:\", accuracy)"
   ]
  }
 ],
 "metadata": {
  "kernelspec": {
   "display_name": "Python 3 (ipykernel)",
   "language": "python",
   "name": "python3"
  },
  "language_info": {
   "codemirror_mode": {
    "name": "ipython",
    "version": 3
   },
   "file_extension": ".py",
   "mimetype": "text/x-python",
   "name": "python",
   "nbconvert_exporter": "python",
   "pygments_lexer": "ipython3",
   "version": "3.10.9"
  }
 },
 "nbformat": 4,
 "nbformat_minor": 5
}
